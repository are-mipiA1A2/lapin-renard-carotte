{
 "cells": [
  {
   "cell_type": "code",
   "execution_count": 56,
   "metadata": {},
   "outputs": [],
   "source": [
    "age1=125\n",
    "age2=125\n",
    "fec1=0.61\n",
    "fec2=0.61"
   ]
  },
  {
   "cell_type": "code",
   "execution_count": 57,
   "metadata": {},
   "outputs": [
    {
     "name": "stdout",
     "output_type": "stream",
     "text": [
      "8\n"
     ]
    }
   ],
   "source": [
    "def nb_lapinous(age1,age2,fec1,fec2):\n",
    "    \"\"\"donne le nombre de lapinous dans une portée en fonction des fécondités des parents\"\"\"\n",
    "    #k:int\n",
    "    k=0\n",
    "    if age1>124 and age2>124:\n",
    "        if (fec1+fec2)/2>=0.2:\n",
    "            k=4+int(((fec1+fec2)/2-0.2)*10)\n",
    "    return k\n",
    "print(rep_lapin(age1,age2,fec1,fec2))"
   ]
  },
  {
   "cell_type": "code",
   "execution_count": 58,
   "metadata": {},
   "outputs": [],
   "source": [
    "age3=311\n",
    "age4=5000\n",
    "fec3=0.5\n",
    "fec4=0.7"
   ]
  },
  {
   "cell_type": "code",
   "execution_count": 66,
   "metadata": {},
   "outputs": [
    {
     "name": "stdout",
     "output_type": "stream",
     "text": [
      "5\n"
     ]
    }
   ],
   "source": [
    "import random as rd\n",
    "def nb_renardeaux(age3,age4,fec3,fec4):\n",
    "    \"\"\"donne le nombre de renardeaux dans une portée aléatoirement\"\"\n",
    "    #d:int\n",
    "    d=0\n",
    "    if age3>310 and age4>310:\n",
    "        if (fec3+fec4)/2>=0.5:\n",
    "            d=rd.randint(4,5)\n",
    "    return d\n",
    "print(nb_renardeaux(age3,age4,fec3,fec4))"
   ]
  },
  {
   "cell_type": "code",
   "execution_count": 156,
   "metadata": {},
   "outputs": [],
   "source": [
    "efficacite_renard=0.20\n",
    "efficacite_lapin=0.0\n",
    "i=10000000"
   ]
  },
  {
   "cell_type": "code",
   "execution_count": 157,
   "metadata": {},
   "outputs": [
    {
     "name": "stdout",
     "output_type": "stream",
     "text": [
      "False\n"
     ]
    }
   ],
   "source": [
    "def reussite_chasse(efficacite_renard,efficacite_lapin):\n",
    "    \"\"\"donne un booléen qui correspond à l'issue de la chasse du renard\"\"\"\n",
    "    return rd.random()<(efficacite_renard-efficacite_lapin)\n",
    "print(reussite_chasse(efficacite_renard,efficacite_lapin))"
   ]
  },
  {
   "cell_type": "code",
   "execution_count": 159,
   "metadata": {},
   "outputs": [
    {
     "name": "stdout",
     "output_type": "stream",
     "text": [
      "1998456\n"
     ]
    }
   ],
   "source": [
    "def reussite_chasse_test(efficacite_renard,efficacite_lapin,i):\n",
    "    k=0\n",
    "    j=0\n",
    "    while k<i:\n",
    "        if rd.random()<(efficacite_renard-efficacite_lapin):\n",
    "            j=j+1\n",
    "        k=k+1\n",
    "    return j\n",
    "\n",
    "print(reussite_chasse_test(efficacite_renard,efficacite_lapin,i))\n",
    "        "
   ]
  },
  {
   "cell_type": "code",
   "execution_count": null,
   "metadata": {},
   "outputs": [],
   "source": []
  }
 ],
 "metadata": {
  "kernelspec": {
   "display_name": "Python 3",
   "language": "python",
   "name": "python3"
  },
  "language_info": {
   "codemirror_mode": {
    "name": "ipython",
    "version": 3
   },
   "file_extension": ".py",
   "mimetype": "text/x-python",
   "name": "python",
   "nbconvert_exporter": "python",
   "pygments_lexer": "ipython3",
   "version": "3.4.2"
  }
 },
 "nbformat": 4,
 "nbformat_minor": 2
}
