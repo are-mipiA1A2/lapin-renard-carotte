{
 "cells": [
  {
   "cell_type": "markdown",
   "metadata": {},
   "source": [
    "# Document de conception\n",
    "\n",
    "## Système\n",
    "\n",
    "#### Agents\n",
    "\n",
    "##### Attributs"
   ]
  },
  {
   "cell_type": "code",
   "execution_count": 1,
   "metadata": {},
   "outputs": [
    {
     "ename": "IndentationError",
     "evalue": "unexpected indent (<ipython-input-1-fecae7261b06>, line 2)",
     "output_type": "error",
     "traceback": [
      "\u001b[0;36m  File \u001b[0;32m\"<ipython-input-1-fecae7261b06>\"\u001b[0;36m, line \u001b[0;32m2\u001b[0m\n\u001b[0;31m    renard = {\"âge\" : int, \"sexe\" : bool, \"efficacité\" : rand(), \"fécondité\" : rand(), (position_x, position_y)}\u001b[0m\n\u001b[0m    ^\u001b[0m\n\u001b[0;31mIndentationError\u001b[0m\u001b[0;31m:\u001b[0m unexpected indent\n"
     ]
    }
   ],
   "source": [
    "renard(âge, sexe, efficacité, fécondité, position, satiété, )\n",
    "    renard = {\"âge\" : int, \"sexe\" : bool, \"efficacité\" : rand(), \"fécondité\" : rand(), (position_x, position_y)}\n",
    "    renards = [renard1, renard2, renard3, renard4, renard5, ...]\n",
    "lapin(âge, sexe, fécondité)\n",
    "    lapin = {\"âge\" : int, \"sexe\" : bool, \"fécondité\" : rand()}\n",
    "    lapins = [lapin1, lapin2, lapin3, lapin4, lapin5, ...]"
   ]
  },
  {
   "cell_type": "markdown",
   "metadata": {},
   "source": [
    "##### Procédures"
   ]
  },
  {
   "cell_type": "code",
   "execution_count": null,
   "metadata": {},
   "outputs": [],
   "source": [
    "reproduction_des_renards(renard1, renard2):\n",
    "    \"\"\"Si deux renards sont sur la même case, cette fonction s'enclenche et fait apparaître des renardeaux sur la même case d'age 0\"\"\"\n",
    "    if renard1[\"sexe\"] != renard2[\"sexe\"]: #On vérifie si le sexe des deux renards est différent\n",
    "        if 0.5 <= (renard1[\"fécondité\"]+renard2[\"fécondité\"]) / 2: #test si la moyenne des fécondités est sup à 0.5\n",
    "            créer_renard() # on crée le nombre de renards voulus sur la case"
   ]
  },
  {
   "cell_type": "code",
   "execution_count": null,
   "metadata": {},
   "outputs": [],
   "source": [
    "reproduction_des_lapins(lapin1, lapin2):\n",
    "    if lapin1[\"sexe\"] != lapin2[\"sexe\"]:\n",
    "        if 0.5 <= lapin1[\"fécondité\"]*lapin2[\"fécondité\"]:\n",
    "            créer_lapin()"
   ]
  },
  {
   "cell_type": "code",
   "execution_count": null,
   "metadata": {},
   "outputs": [],
   "source": [
    "rencontre_renard_lapin(renard, lapin):\n",
    "    if renard[\"efficacité\"] + facteur_chance >= rand():\n",
    "        lapin -> mort\n",
    "        satiété renard = 1"
   ]
  },
  {
   "cell_type": "code",
   "execution_count": null,
   "metadata": {},
   "outputs": [],
   "source": []
  },
  {
   "cell_type": "markdown",
   "metadata": {},
   "source": [
    "### Environnement"
   ]
  },
  {
   "cell_type": "code",
   "execution_count": null,
   "metadata": {},
   "outputs": [],
   "source": [
    "init_environnement(n):\n",
    "    \"\"\"On initialise une matrice carrée de taille n telle que une unité donne 100 mètres\"\"\"\n",
    "    return (create array((n,n)), create array((n,n)), create array((n,n)))"
   ]
  },
  {
   "cell_type": "markdown",
   "metadata": {},
   "source": [
    "L'environnement est constitué de trois matrices :\n",
    " - matrice renard\n",
    " - matrice lapin\n",
    " - matrice carotte\n",
    " \n",
    "Les matrices renard et lapin sont des matrices d'int où le chiffre indique le nombre d'animaux en question.\n",
    "\n",
    "La matrice carotte est une matrice de rand() où .1 indique une unité de nourriture."
   ]
  },
  {
   "cell_type": "markdown",
   "metadata": {},
   "source": [
    "### Boucle principale"
   ]
  },
  {
   "cell_type": "code",
   "execution_count": null,
   "metadata": {},
   "outputs": [],
   "source": [
    "boucle principale():\n",
    "    # pour chaque case avec un renard on regarde si le renard a un lapin ou un renard dans son entourage de Moore\n",
    "    # si c'est le cas :\n",
    "        # si il y a les deux :\n",
    "            #on compare les niveaux de satiété et d'excitation\n",
    "        # il se déplace vers la case choisie\n",
    "        # sinon il se déplace aléatoirement\n",
    "    #pour chaque case avec un lapin on regarde si le lapin a une carotte ou un lapin dans son Moore\n",
    "    #si c'est le cas :\n",
    "        # si il y a les deux :\n",
    "            #on compare les niveaux de satiété et d'excitation\n",
    "        # il se déplace vers la case choisie\n",
    "        # sinon il se déplace aléatoirement\n",
    "    #pour chaque case avec carotte on ajoute 0.01 au stock de carottes\n",
    "    \n",
    "    #résolution des interactions :\n",
    "    #for e in [0,100]\n",
    "        #for i in [0,100]\n",
    "            #if matrice_renard[(e,i)] >= 1 and matrice_lapin[(e,i)] >= 1:\n",
    "                #mort_lapin()\n",
    "                #satiété_renard_up()\n",
    "            #if matrice_renard[(e,i)] >= 2\n",
    "                #naissance_renard()\n",
    "                #excitation_renard_down()\n",
    "            #if matrice_lapin((e,i)) >= 2:\n",
    "                #naissance_lapin()\n",
    "                #excitation_lapin_down()\n",
    "            #if matrice_lapin[(e,i)] >= 1 and matrice_carotte[(e,i)] >= 0.1\n",
    "                #carotte_down()\n",
    "                #satiété_lapin_up()\n",
    "            #if matrice_carotte[(e,i)] > 0\n",
    "                #naissance_carrote_moore()\n",
    "                "
   ]
  },
  {
   "cell_type": "code",
   "execution_count": null,
   "metadata": {},
   "outputs": [],
   "source": []
  }
 ],
 "metadata": {
  "kernelspec": {
   "display_name": "Python 3",
   "language": "python",
   "name": "python3"
  },
  "language_info": {
   "codemirror_mode": {
    "name": "ipython",
    "version": 3
   },
   "file_extension": ".py",
   "mimetype": "text/x-python",
   "name": "python",
   "nbconvert_exporter": "python",
   "pygments_lexer": "ipython3",
   "version": "3.4.2"
  }
 },
 "nbformat": 4,
 "nbformat_minor": 2
}
