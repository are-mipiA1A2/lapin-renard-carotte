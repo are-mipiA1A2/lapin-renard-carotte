{
 "cells": [
  {
   "cell_type": "code",
   "execution_count": null,
   "metadata": {},
   "outputs": [],
   "source": [
    "def nb_renard_temps(nb_jour) : \n",
    "    \"\"\"donne le nb de renard en fonction du temps \"\"\"\n",
    "    renardlist = []\n",
    "    nb_renard=0\n",
    "    for e in matrice_renard : \n",
    "        for k in e: \n",
    "            if k!=0: \n",
    "                nb_renard += k \n",
    "                nb_case += 1 \n",
    "    return (nb_renard, nb_case)"
   ]
  },
  {
   "cell_type": "code",
   "execution_count": null,
   "metadata": {},
   "outputs": [],
   "source": [
    "def nb_lapin_temps(nb_jour) : \n",
    "    \"\"\"donne le nb de renard en fonction du temps \"\"\"\n",
    "    lapinlist = []\n",
    "    nb_lapin=0\n",
    "    for e in matrice_lapin : \n",
    "        for k in e: \n",
    "            if k!=0: \n",
    "                nb_lapin += k \n",
    "                nb_case += 1 \n",
    "    return (nb_renard, nb_case)"
   ]
  },
  {
   "cell_type": "code",
   "execution_count": null,
   "metadata": {},
   "outputs": [],
   "source": [
    "def moyenne_par_case (nb_jour) : \n",
    "    \"\"\"donne le nb d’agents par case en moyenne en fonction du temps\"\"\"\n",
    "    c = 0\n",
    "    moy = []\n",
    "    while c <= len(list_renards): \n",
    "        moy.append(list_renards[c]/list_cases[c])\n",
    "    return moy\n"
   ]
  },
  {
   "cell_type": "code",
   "execution_count": null,
   "metadata": {},
   "outputs": [],
   "source": [
    "def intermediaire_agents(nb_jour) :  \n",
    "    matrice_agents = array_merge(matrice_renard,matrice_lapin)\n",
    "    for e in matrice_agents:\n",
    "        for k in e: \n",
    "            if k!=0:\n",
    "                list_agents.append(k)\n",
    "    np.median(list_agents)"
   ]
  },
  {
   "cell_type": "code",
   "execution_count": 2,
   "metadata": {},
   "outputs": [
    {
     "name": "stdout",
     "output_type": "stream",
     "text": [
      "[0, 1, 2]\n"
     ]
    }
   ],
   "source": [
    "def list_jour(nb_jour):\n",
    "    \"créer la liste des jours\"\n",
    "    c = 0\n",
    "    jours = []\n",
    "    while c <= nb_jour: \n",
    "        jours.append(c)\n",
    "        c+=1\n",
    "    return jours\n",
    "print(list_jour(2))"
   ]
  },
  {
   "cell_type": "code",
   "execution_count": null,
   "metadata": {},
   "outputs": [],
   "source": [
    "import plotly.plotly as py\n",
    "import plotly.graph_objs as go\n",
    "\n",
    "# Add data\n",
    "month = list_jour(nb_jour)\n",
    "high_2000 = list_renard\n",
    "low_2000 = list_lapin \n",
    "\n",
    "\n",
    "# Create and style traces\n",
    "trace0 = go.Scatter(\n",
    "    x = month,\n",
    "    y = high_2014,\n",
    "    name = 'Renard',\n",
    "    line = dict(\n",
    "        color = ('rgb(205, 12, 24)'),\n",
    "        width = 4)\n",
    ")\n",
    "trace1 = go.Scatter(\n",
    "    x = month,\n",
    "    y = low_2014,\n",
    "    name = 'Lapin',\n",
    "    line = dict(\n",
    "        color = ('rgb(22, 96, 167)'),\n",
    "        width = 4,)"
   ]
  },
  {
   "cell_type": "code",
   "execution_count": null,
   "metadata": {},
   "outputs": [],
   "source": [
    "import plotly.plotly as py\n",
    "import plotly.graph_objs as go\n",
    "\n",
    "# Add data\n",
    "month = list_jour(nb_jour)\n",
    "high_2000 = moyenne_par_case(nb_jour)\n",
    "\n",
    "\n",
    "\n",
    "# Create and style traces\n",
    "trace0 = go.Scatter(\n",
    "    x = month,\n",
    "    y = high_2014,\n",
    "    name = 'Renard',\n",
    "    line = dict(\n",
    "        color = ('rgb(205, 12, 24)'),\n",
    "        width = 4)"
   ]
  }
 ],
 "metadata": {
  "kernelspec": {
   "display_name": "Python 3",
   "language": "python",
   "name": "python3"
  },
  "language_info": {
   "codemirror_mode": {
    "name": "ipython",
    "version": 3
   },
   "file_extension": ".py",
   "mimetype": "text/x-python",
   "name": "python",
   "nbconvert_exporter": "python",
   "pygments_lexer": "ipython3",
   "version": "3.6.4"
  }
 },
 "nbformat": 4,
 "nbformat_minor": 2
}
